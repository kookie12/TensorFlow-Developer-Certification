{
  "cells": [
    {
      "cell_type": "markdown",
      "metadata": {
        "id": "bFWbEb6uGbN-"
      },
      "source": [
        "# Week 4: Predicting the next word\n",
        "\n",
        "Welcome to this assignment! During this week you saw how to create a model that will predict the next word in a text sequence, now you will implement such model and train it using a corpus of Shakespeare's sonnets, while also creating some helper functions to pre-process the data.\n",
        "\n",
        "\n",
        "Let's get started!"
      ]
    },
    {
      "cell_type": "code",
      "execution_count": 1,
      "metadata": {
        "id": "e_hAQbAtNUxV",
        "colab": {
          "base_uri": "https://localhost:8080/"
        },
        "outputId": "3ba9c6ff-5bd8-487b-bb8e-d5975173923e"
      },
      "outputs": [
        {
          "output_type": "stream",
          "name": "stdout",
          "text": [
            "Reading package lists... Done\n",
            "Building dependency tree       \n",
            "Reading state information... Done\n",
            "The following package was automatically installed and is no longer required:\n",
            "  libnvidia-common-460\n",
            "Use 'apt autoremove' to remove it.\n",
            "The following packages will be REMOVED:\n",
            "  libcudnn8-dev\n",
            "The following held packages will be changed:\n",
            "  libcudnn8\n",
            "The following packages will be upgraded:\n",
            "  libcudnn8\n",
            "1 upgraded, 0 newly installed, 1 to remove and 18 not upgraded.\n",
            "Need to get 420 MB of archives.\n",
            "After this operation, 3,369 MB disk space will be freed.\n",
            "Get:1 https://developer.download.nvidia.com/compute/cuda/repos/ubuntu1804/x86_64  libcudnn8 8.4.1.50-1+cuda11.6 [420 MB]\n",
            "Fetched 420 MB in 16s (27.0 MB/s)\n",
            "(Reading database ... 155685 files and directories currently installed.)\n",
            "Removing libcudnn8-dev (8.0.5.39-1+cuda11.1) ...\n",
            "(Reading database ... 155663 files and directories currently installed.)\n",
            "Preparing to unpack .../libcudnn8_8.4.1.50-1+cuda11.6_amd64.deb ...\n",
            "Unpacking libcudnn8 (8.4.1.50-1+cuda11.6) over (8.0.5.39-1+cuda11.1) ...\n",
            "Setting up libcudnn8 (8.4.1.50-1+cuda11.6) ...\n"
          ]
        }
      ],
      "source": [
        "# Install this package to use Colab's GPU for training\n",
        "!apt install --allow-change-held-packages libcudnn8=8.4.1.50-1+cuda11.6"
      ]
    },
    {
      "cell_type": "code",
      "execution_count": 2,
      "metadata": {
        "id": "BOwsuGQQY9OL",
        "tags": [
          "graded"
        ]
      },
      "outputs": [],
      "source": [
        "import numpy as np \n",
        "import matplotlib.pyplot as plt\n",
        "from tensorflow.keras.models import Sequential\n",
        "from tensorflow.keras.utils import to_categorical \n",
        "from tensorflow.keras.preprocessing.text import Tokenizer\n",
        "from tensorflow.keras.preprocessing.sequence import pad_sequences\n",
        "from tensorflow.keras.layers import Embedding, LSTM, Dense, Bidirectional"
      ]
    },
    {
      "cell_type": "markdown",
      "metadata": {
        "id": "BTxqlHqKHzhr"
      },
      "source": [
        "For this assignment you will be using the [Shakespeare Sonnets Dataset](https://www.opensourceshakespeare.org/views/sonnets/sonnet_view.php?range=viewrange&sonnetrange1=1&sonnetrange2=154), which contains more than 2000 lines of text extracted from Shakespeare's sonnets."
      ]
    },
    {
      "cell_type": "code",
      "execution_count": 3,
      "metadata": {
        "id": "WZ4qOUzujMP6",
        "tags": [
          "graded"
        ],
        "colab": {
          "base_uri": "https://localhost:8080/"
        },
        "outputId": "51427eb9-54d2-413c-ed22-02a512746b0b"
      },
      "outputs": [
        {
          "output_type": "stream",
          "name": "stdout",
          "text": [
            "/usr/local/lib/python3.7/dist-packages/gdown/cli.py:131: FutureWarning: Option `--id` was deprecated in version 4.3.1 and will be removed in 5.0. You don't need to pass it anymore to use a file ID.\n",
            "  category=FutureWarning,\n",
            "Downloading...\n",
            "From: https://drive.google.com/uc?id=108jAePKK4R3BVYBbYJZ32JWUwxeMg20K\n",
            "To: /content/sonnets.txt\n",
            "100% 93.6k/93.6k [00:00<00:00, 93.6MB/s]\n"
          ]
        }
      ],
      "source": [
        "# sonnets.txt\n",
        "!gdown --id 108jAePKK4R3BVYBbYJZ32JWUwxeMg20K"
      ]
    },
    {
      "cell_type": "code",
      "execution_count": 4,
      "metadata": {
        "id": "Pfd-nYKij5yY",
        "tags": [
          "graded"
        ],
        "colab": {
          "base_uri": "https://localhost:8080/"
        },
        "outputId": "94f4ebe9-7dd7-4102-941e-5e07758e523b"
      },
      "outputs": [
        {
          "output_type": "stream",
          "name": "stdout",
          "text": [
            "There are 2159 lines of sonnets\n",
            "\n",
            "The first 5 lines look like this:\n",
            "\n",
            "from fairest creatures we desire increase,\n",
            "that thereby beauty's rose might never die,\n",
            "but as the riper should by time decease,\n",
            "his tender heir might bear his memory:\n",
            "but thou, contracted to thine own bright eyes,\n"
          ]
        }
      ],
      "source": [
        "# Define path for file with sonnets\n",
        "SONNETS_FILE = './sonnets.txt'\n",
        "\n",
        "# Read the data\n",
        "with open('./sonnets.txt') as f:\n",
        "    data = f.read()\n",
        "\n",
        "# Convert to lower case and save as a list\n",
        "corpus = data.lower().split(\"\\n\")\n",
        "\n",
        "print(f\"There are {len(corpus)} lines of sonnets\\n\")\n",
        "print(f\"The first 5 lines look like this:\\n\")\n",
        "for i in range(5):\n",
        "  print(corpus[i])"
      ]
    },
    {
      "cell_type": "markdown",
      "metadata": {
        "id": "imB15zrSNhA1"
      },
      "source": [
        "## Tokenizing the text\n",
        "\n",
        "Now fit the Tokenizer to the corpus and save the total number of words."
      ]
    },
    {
      "cell_type": "code",
      "execution_count": 5,
      "metadata": {
        "id": "AAhM_qAZk0o5",
        "tags": [
          "graded"
        ]
      },
      "outputs": [],
      "source": [
        "tokenizer = Tokenizer()\n",
        "tokenizer.fit_on_texts(corpus)\n",
        "total_words = len(tokenizer.word_index) + 1"
      ]
    },
    {
      "cell_type": "markdown",
      "metadata": {
        "id": "77-0sA46OETa"
      },
      "source": [
        "When converting the text into sequences you can use the `texts_to_sequences` method as you have done throughout this course.\n",
        "\n",
        "In the next graded function you will need to process this corpus one line at a time. Given this, it is important to keep in mind that the way you are feeding the data unto this method affects the result. Check the following example to make this clearer.\n",
        "\n",
        "The first example of the corpus is a string and looks like this:"
      ]
    },
    {
      "cell_type": "code",
      "execution_count": 6,
      "metadata": {
        "id": "tqhPxdeXlfjh",
        "tags": [
          "graded"
        ],
        "colab": {
          "base_uri": "https://localhost:8080/",
          "height": 35
        },
        "outputId": "78a53e3c-c31c-41e5-add3-8d1ae15fe04e"
      },
      "outputs": [
        {
          "output_type": "execute_result",
          "data": {
            "text/plain": [
              "'from fairest creatures we desire increase,'"
            ],
            "application/vnd.google.colaboratory.intrinsic+json": {
              "type": "string"
            }
          },
          "metadata": {},
          "execution_count": 6
        }
      ],
      "source": [
        "corpus[0]"
      ]
    },
    {
      "cell_type": "markdown",
      "metadata": {
        "id": "XFMP4z11O3os"
      },
      "source": [
        "If you pass this text directly into the `texts_to_sequences` method you will get an unexpected result:"
      ]
    },
    {
      "cell_type": "code",
      "execution_count": 7,
      "metadata": {
        "id": "EMSEhmbzNZCE",
        "tags": [
          "graded"
        ],
        "colab": {
          "base_uri": "https://localhost:8080/"
        },
        "outputId": "c17ea6d3-7d0c-4578-985c-99ad5cb63705"
      },
      "outputs": [
        {
          "output_type": "execute_result",
          "data": {
            "text/plain": [
              "[[],\n",
              " [],\n",
              " [58],\n",
              " [],\n",
              " [],\n",
              " [],\n",
              " [17],\n",
              " [6],\n",
              " [],\n",
              " [],\n",
              " [],\n",
              " [],\n",
              " [],\n",
              " [],\n",
              " [],\n",
              " [],\n",
              " [17],\n",
              " [],\n",
              " [],\n",
              " [],\n",
              " [],\n",
              " [],\n",
              " [],\n",
              " [],\n",
              " [],\n",
              " [],\n",
              " [],\n",
              " [],\n",
              " [],\n",
              " [6],\n",
              " [],\n",
              " [],\n",
              " [],\n",
              " [6],\n",
              " [],\n",
              " [],\n",
              " [],\n",
              " [],\n",
              " [17],\n",
              " [],\n",
              " [],\n",
              " []]"
            ]
          },
          "metadata": {},
          "execution_count": 7
        }
      ],
      "source": [
        "tokenizer.texts_to_sequences(corpus[0])"
      ]
    },
    {
      "cell_type": "markdown",
      "metadata": {
        "id": "pPZmZtpEPEeI"
      },
      "source": [
        "This happened because `texts_to_sequences` expects a list and you are providing a string. However a string is still and `iterable` in Python so you will get the word index of every character in the string.\n",
        "\n",
        "Instead you need to place the example whithin a list before passing it to the method:"
      ]
    },
    {
      "cell_type": "code",
      "execution_count": 8,
      "metadata": {
        "id": "Qmgo-vXhk4nd",
        "tags": [
          "graded"
        ],
        "colab": {
          "base_uri": "https://localhost:8080/"
        },
        "outputId": "d8a371e2-09ea-4bc7-d835-4e5ccfab1af4"
      },
      "outputs": [
        {
          "output_type": "execute_result",
          "data": {
            "text/plain": [
              "[[34, 417, 877, 166, 213, 517]]"
            ]
          },
          "metadata": {},
          "execution_count": 8
        }
      ],
      "source": [
        "tokenizer.texts_to_sequences([corpus[0]])"
      ]
    },
    {
      "cell_type": "markdown",
      "metadata": {
        "id": "0DU7wK-eQ5dc"
      },
      "source": [
        "Notice that you received the sequence wrapped inside a list so in order to get only the desired sequence you need to explicitly get the first item in the list like this:"
      ]
    },
    {
      "cell_type": "code",
      "execution_count": 9,
      "metadata": {
        "id": "kpTy8WmIQ57P",
        "tags": [
          "graded"
        ],
        "colab": {
          "base_uri": "https://localhost:8080/"
        },
        "outputId": "19830880-2e5a-4355-c67a-31811d635217"
      },
      "outputs": [
        {
          "output_type": "execute_result",
          "data": {
            "text/plain": [
              "[34, 417, 877, 166, 213, 517]"
            ]
          },
          "metadata": {},
          "execution_count": 9
        }
      ],
      "source": [
        "tokenizer.texts_to_sequences([corpus[0]])[0]"
      ]
    },
    {
      "cell_type": "markdown",
      "metadata": {
        "id": "-oqy9KjXRJ9A"
      },
      "source": [
        "## Generating n_grams\n",
        "\n",
        "Now complete the `n_gram_seqs` function below. This function receives the fitted tokenizer and the corpus (which is a list of strings) and should return a list containing the `n_gram` sequences for each line in the corpus:"
      ]
    },
    {
      "cell_type": "code",
      "execution_count": 61,
      "metadata": {
        "id": "iy4baJMDl6kj",
        "tags": [
          "graded"
        ]
      },
      "outputs": [],
      "source": [
        "# GRADED FUNCTION: n_gram_seqs\n",
        "def n_gram_seqs(corpus, tokenizer):\n",
        "    \"\"\"\n",
        "    Generates a list of n-gram sequences\n",
        "    \n",
        "    Args:\n",
        "        corpus (list of string): lines of texts to generate n-grams for\n",
        "        tokenizer (object): an instance of the Tokenizer class containing the word-index dictionary\n",
        "    \n",
        "    Returns:\n",
        "        input_sequences (list of int): the n-gram sequences for each line in the corpus\n",
        "    \"\"\"\n",
        "    input_sequences = []\n",
        "    \n",
        "    ### START CODE HERE\n",
        "\n",
        "    for line in corpus:\n",
        "        token_list = tokenizer.texts_to_sequences([line])[0]\n",
        "        for idx in range(1, len(token_list)):\n",
        "            input_sequences.append(token_list[:idx+1])\n",
        "\n",
        "    ### END CODE HERE\n",
        "    \n",
        "    return input_sequences"
      ]
    },
    {
      "cell_type": "code",
      "execution_count": 62,
      "metadata": {
        "id": "DlKqW2pfM7G3",
        "tags": [
          "graded"
        ],
        "colab": {
          "base_uri": "https://localhost:8080/"
        },
        "outputId": "37774289-8598-4fe2-e586-874a9b22243d"
      },
      "outputs": [
        {
          "output_type": "stream",
          "name": "stdout",
          "text": [
            "n_gram sequences for first example look like this:\n",
            "\n"
          ]
        },
        {
          "output_type": "execute_result",
          "data": {
            "text/plain": [
              "[[33, 311],\n",
              " [33, 311, 518],\n",
              " [33, 311, 518, 145],\n",
              " [33, 311, 518, 145, 186],\n",
              " [33, 311, 518, 145, 186, 352]]"
            ]
          },
          "metadata": {},
          "execution_count": 62
        }
      ],
      "source": [
        "# Test your function with one example\n",
        "first_example_sequence = n_gram_seqs([corpus[0]], tokenizer)\n",
        "\n",
        "print(\"n_gram sequences for first example look like this:\\n\")\n",
        "first_example_sequence"
      ]
    },
    {
      "cell_type": "markdown",
      "metadata": {
        "id": "0HL8Ug6UU0Jt"
      },
      "source": [
        "**Expected Output:**\n",
        "\n",
        "```\n",
        "n_gram sequences for first example look like this:\n",
        "\n",
        "[[34, 417],\n",
        " [34, 417, 877],\n",
        " [34, 417, 877, 166],\n",
        " [34, 417, 877, 166, 213],\n",
        " [34, 417, 877, 166, 213, 517]]\n",
        "```"
      ]
    },
    {
      "cell_type": "code",
      "execution_count": 63,
      "metadata": {
        "id": "wtPpCcBjNc4c",
        "tags": [
          "graded"
        ],
        "colab": {
          "base_uri": "https://localhost:8080/"
        },
        "outputId": "0a9701e6-bd08-4467-c587-d2133f4d4d72"
      },
      "outputs": [
        {
          "output_type": "stream",
          "name": "stdout",
          "text": [
            "n_gram sequences for next 3 examples look like this:\n",
            "\n"
          ]
        },
        {
          "output_type": "execute_result",
          "data": {
            "text/plain": [
              "[[8, 878],\n",
              " [8, 878, 134],\n",
              " [8, 878, 134, 353],\n",
              " [8, 878, 134, 353, 102],\n",
              " [8, 878, 134, 353, 102, 157],\n",
              " [8, 878, 134, 353, 102, 157, 200],\n",
              " [16, 22],\n",
              " [16, 22, 2],\n",
              " [16, 22, 2, 879],\n",
              " [16, 22, 2, 879, 61],\n",
              " [16, 22, 2, 879, 61, 30],\n",
              " [16, 22, 2, 879, 61, 30, 48],\n",
              " [16, 22, 2, 879, 61, 30, 48, 635],\n",
              " [25, 312],\n",
              " [25, 312, 636],\n",
              " [25, 312, 636, 102],\n",
              " [25, 312, 636, 102, 201],\n",
              " [25, 312, 636, 102, 201, 25],\n",
              " [25, 312, 636, 102, 201, 25, 278]]"
            ]
          },
          "metadata": {},
          "execution_count": 63
        }
      ],
      "source": [
        "# Test your function with a bigger corpus\n",
        "next_3_examples_sequence = n_gram_seqs(corpus[1:4], tokenizer)\n",
        "\n",
        "print(\"n_gram sequences for next 3 examples look like this:\\n\")\n",
        "next_3_examples_sequence"
      ]
    },
    {
      "cell_type": "markdown",
      "metadata": {
        "id": "EIzecMczU9UB"
      },
      "source": [
        "**Expected Output:**\n",
        "\n",
        "```\n",
        "n_gram sequences for next 3 examples look like this:\n",
        "\n",
        "[[8, 878],\n",
        " [8, 878, 134],\n",
        " [8, 878, 134, 351],\n",
        " [8, 878, 134, 351, 102],\n",
        " [8, 878, 134, 351, 102, 156],\n",
        " [8, 878, 134, 351, 102, 156, 199],\n",
        " [16, 22],\n",
        " [16, 22, 2],\n",
        " [16, 22, 2, 879],\n",
        " [16, 22, 2, 879, 61],\n",
        " [16, 22, 2, 879, 61, 30],\n",
        " [16, 22, 2, 879, 61, 30, 48],\n",
        " [16, 22, 2, 879, 61, 30, 48, 634],\n",
        " [25, 311],\n",
        " [25, 311, 635],\n",
        " [25, 311, 635, 102],\n",
        " [25, 311, 635, 102, 200],\n",
        " [25, 311, 635, 102, 200, 25],\n",
        " [25, 311, 635, 102, 200, 25, 278]]\n",
        "```"
      ]
    },
    {
      "cell_type": "markdown",
      "metadata": {
        "id": "dx3V_RjFWQSu"
      },
      "source": [
        "Apply the `n_gram_seqs` transformation to the whole corpus and save the maximum sequence length to use it later:"
      ]
    },
    {
      "cell_type": "code",
      "execution_count": 64,
      "metadata": {
        "id": "laMwiRUpmuSd",
        "tags": [
          "graded"
        ],
        "colab": {
          "base_uri": "https://localhost:8080/"
        },
        "outputId": "3e4407b5-6fe4-4349-d279-0dea44ac9d07"
      },
      "outputs": [
        {
          "output_type": "stream",
          "name": "stdout",
          "text": [
            "n_grams of input_sequences have length: 15462\n",
            "maximum length of sequences is: 11\n"
          ]
        }
      ],
      "source": [
        "# Apply the n_gram_seqs transformation to the whole corpus\n",
        "input_sequences = n_gram_seqs(corpus, tokenizer)\n",
        "\n",
        "# Save max length \n",
        "max_sequence_len = max([len(x) for x in input_sequences])\n",
        "\n",
        "print(f\"n_grams of input_sequences have length: {len(input_sequences)}\")\n",
        "print(f\"maximum length of sequences is: {max_sequence_len}\")"
      ]
    },
    {
      "cell_type": "markdown",
      "metadata": {
        "id": "2OciMdmEdE9L"
      },
      "source": [
        "**Expected Output:**\n",
        "\n",
        "```\n",
        "n_grams of input_sequences have length: 15462\n",
        "maximum length of sequences is: 11\n",
        "```"
      ]
    },
    {
      "cell_type": "markdown",
      "metadata": {
        "id": "zHY7HroqWq12"
      },
      "source": [
        "## Add padding to the sequences\n",
        "\n",
        "Now code the `pad_seqs` function which will pad any given sequences to the desired maximum length. Notice that this function receives a list of sequences and should return a numpy array with the padded sequences: "
      ]
    },
    {
      "cell_type": "code",
      "execution_count": 65,
      "metadata": {
        "cellView": "code",
        "id": "WW1-qAZaWOhC",
        "tags": [
          "graded"
        ]
      },
      "outputs": [],
      "source": [
        "# GRADED FUNCTION: pad_seqs\n",
        "def pad_seqs(input_sequences, maxlen):\n",
        "    \"\"\"\n",
        "    Pads tokenized sequences to the same length\n",
        "    \n",
        "    Args:\n",
        "        input_sequences (list of int): tokenized sequences to pad\n",
        "        maxlen (int): maximum length of the token sequences\n",
        "    \n",
        "    Returns:\n",
        "        padded_sequences (array of int): tokenized sequences padded to the same length\n",
        "    \"\"\"\n",
        "    ### START CODE HERE\n",
        "    padded_sequences = pad_sequences(input_sequences, maxlen=maxlen, padding='pre')\n",
        "    \n",
        "    return padded_sequences\n",
        "    ### END CODE HERE"
      ]
    },
    {
      "cell_type": "code",
      "execution_count": 66,
      "metadata": {
        "id": "IqVQ0pb3YHLr",
        "tags": [
          "graded"
        ],
        "colab": {
          "base_uri": "https://localhost:8080/"
        },
        "outputId": "1dc0b6e8-4092-4392-cd17-bcb0a5a73ff4"
      },
      "outputs": [
        {
          "output_type": "execute_result",
          "data": {
            "text/plain": [
              "array([[  0,   0,   0,  33, 311],\n",
              "       [  0,   0,  33, 311, 518],\n",
              "       [  0,  33, 311, 518, 145],\n",
              "       [ 33, 311, 518, 145, 186],\n",
              "       [311, 518, 145, 186, 352]], dtype=int32)"
            ]
          },
          "metadata": {},
          "execution_count": 66
        }
      ],
      "source": [
        "# Test your function with the n_grams_seq of the first example\n",
        "first_padded_seq = pad_seqs(first_example_sequence, len(first_example_sequence))\n",
        "first_padded_seq"
      ]
    },
    {
      "cell_type": "markdown",
      "metadata": {
        "id": "Re_avDznXRnU"
      },
      "source": [
        "**Expected Output:**\n",
        "\n",
        "```\n",
        "array([[  0,   0,   0,  34, 417],\n",
        "       [  0,   0,  34, 417, 877],\n",
        "       [  0,  34, 417, 877, 166],\n",
        "       [ 34, 417, 877, 166, 213],\n",
        "       [417, 877, 166, 213, 517]], dtype=int32)\n",
        "```"
      ]
    },
    {
      "cell_type": "code",
      "execution_count": 67,
      "metadata": {
        "id": "j56_UCOBYzZt",
        "tags": [
          "graded"
        ],
        "colab": {
          "base_uri": "https://localhost:8080/"
        },
        "outputId": "e2794f1c-72f4-4794-9029-f5be9bb56a12"
      },
      "outputs": [
        {
          "output_type": "execute_result",
          "data": {
            "text/plain": [
              "array([[  0,   0,   0,   0,   0,   0,   8, 878],\n",
              "       [  0,   0,   0,   0,   0,   8, 878, 134],\n",
              "       [  0,   0,   0,   0,   8, 878, 134, 353],\n",
              "       [  0,   0,   0,   8, 878, 134, 353, 102],\n",
              "       [  0,   0,   8, 878, 134, 353, 102, 157],\n",
              "       [  0,   8, 878, 134, 353, 102, 157, 200],\n",
              "       [  0,   0,   0,   0,   0,   0,  16,  22],\n",
              "       [  0,   0,   0,   0,   0,  16,  22,   2],\n",
              "       [  0,   0,   0,   0,  16,  22,   2, 879],\n",
              "       [  0,   0,   0,  16,  22,   2, 879,  61],\n",
              "       [  0,   0,  16,  22,   2, 879,  61,  30],\n",
              "       [  0,  16,  22,   2, 879,  61,  30,  48],\n",
              "       [ 16,  22,   2, 879,  61,  30,  48, 635],\n",
              "       [  0,   0,   0,   0,   0,   0,  25, 312],\n",
              "       [  0,   0,   0,   0,   0,  25, 312, 636],\n",
              "       [  0,   0,   0,   0,  25, 312, 636, 102],\n",
              "       [  0,   0,   0,  25, 312, 636, 102, 201],\n",
              "       [  0,   0,  25, 312, 636, 102, 201,  25],\n",
              "       [  0,  25, 312, 636, 102, 201,  25, 278]], dtype=int32)"
            ]
          },
          "metadata": {},
          "execution_count": 67
        }
      ],
      "source": [
        "# Test your function with the n_grams_seq of the next 3 examples\n",
        "next_3_padded_seq = pad_seqs(next_3_examples_sequence, max([len(s) for s in next_3_examples_sequence]))\n",
        "next_3_padded_seq"
      ]
    },
    {
      "cell_type": "markdown",
      "metadata": {
        "id": "3rmcDluOXcIU"
      },
      "source": [
        "**Expected Output:**\n",
        "\n",
        "```\n",
        "array([[  0,   0,   0,   0,   0,   0,   8, 878],\n",
        "       [  0,   0,   0,   0,   0,   8, 878, 134],\n",
        "       [  0,   0,   0,   0,   8, 878, 134, 351],\n",
        "       [  0,   0,   0,   8, 878, 134, 351, 102],\n",
        "       [  0,   0,   8, 878, 134, 351, 102, 156],\n",
        "       [  0,   8, 878, 134, 351, 102, 156, 199],\n",
        "       [  0,   0,   0,   0,   0,   0,  16,  22],\n",
        "       [  0,   0,   0,   0,   0,  16,  22,   2],\n",
        "       [  0,   0,   0,   0,  16,  22,   2, 879],\n",
        "       [  0,   0,   0,  16,  22,   2, 879,  61],\n",
        "       [  0,   0,  16,  22,   2, 879,  61,  30],\n",
        "       [  0,  16,  22,   2, 879,  61,  30,  48],\n",
        "       [ 16,  22,   2, 879,  61,  30,  48, 634],\n",
        "       [  0,   0,   0,   0,   0,   0,  25, 311],\n",
        "       [  0,   0,   0,   0,   0,  25, 311, 635],\n",
        "       [  0,   0,   0,   0,  25, 311, 635, 102],\n",
        "       [  0,   0,   0,  25, 311, 635, 102, 200],\n",
        "       [  0,   0,  25, 311, 635, 102, 200,  25],\n",
        "       [  0,  25, 311, 635, 102, 200,  25, 278]], dtype=int32)\n",
        "```"
      ]
    },
    {
      "cell_type": "code",
      "execution_count": 68,
      "metadata": {
        "id": "rgK-Q_micEYA",
        "tags": [
          "graded"
        ],
        "colab": {
          "base_uri": "https://localhost:8080/"
        },
        "outputId": "52d48112-5d7a-4a7f-8354-de335ed44ba0"
      },
      "outputs": [
        {
          "output_type": "stream",
          "name": "stdout",
          "text": [
            "padded corpus has shape: (15462, 11)\n"
          ]
        }
      ],
      "source": [
        "# Pad the whole corpus\n",
        "input_sequences = pad_seqs(input_sequences, max_sequence_len)\n",
        "\n",
        "print(f\"padded corpus has shape: {input_sequences.shape}\")"
      ]
    },
    {
      "cell_type": "markdown",
      "metadata": {
        "id": "59RD1YYNc7CW"
      },
      "source": [
        "**Expected Output:**\n",
        "\n",
        "```\n",
        "padded corpus has shape: (15462, 11)\n",
        "```"
      ]
    },
    {
      "cell_type": "markdown",
      "metadata": {
        "id": "ZbOidyPrXxf7"
      },
      "source": [
        "## Split the data into features and labels\n",
        "\n",
        "Before feeding the data into the neural network you should split it into features and labels. In this case the features will be the padded n_gram sequences with the last word removed from them and the labels will be the removed word.\n",
        "\n",
        "Complete the `features_and_labels` function below. This function expects the padded n_gram sequences as input and should return a tuple containing the features and the one hot encoded labels.\n",
        "\n",
        "Notice that the function also receives the total of words in the corpus, this parameter will be very important when one hot enconding the labels since every word in the corpus will be a label at least once. If you need a refresh of how the `to_categorical` function works take a look at the [docs](https://www.tensorflow.org/api_docs/python/tf/keras/utils/to_categorical)"
      ]
    },
    {
      "cell_type": "code",
      "execution_count": 70,
      "metadata": {
        "cellView": "code",
        "id": "9WGGbYdnZdmJ",
        "tags": [
          "graded"
        ]
      },
      "outputs": [],
      "source": [
        "# GRADED FUNCTION: features_and_labels\n",
        "def features_and_labels(input_sequences, total_words):\n",
        "    \"\"\"\n",
        "    Generates features and labels from n-grams\n",
        "    \n",
        "    Args:\n",
        "        input_sequences (list of int): sequences to split features and labels from\n",
        "        total_words (int): vocabulary size\n",
        "    \n",
        "    Returns:\n",
        "        features, one_hot_labels (array of int, array of int): arrays of features and one-hot encoded labels\n",
        "    \"\"\"\n",
        "    ### START CODE HERE\n",
        "    features = input_sequences[:,:-1]\n",
        "    labels = input_sequences[:,-1]\n",
        "    one_hot_labels = to_categorical(labels, num_classes=total_words)\n",
        "    ### END CODE HERE\n",
        "\n",
        "    return features, one_hot_labels"
      ]
    },
    {
      "cell_type": "code",
      "execution_count": 71,
      "metadata": {
        "id": "23DolaBRaIAZ",
        "tags": [
          "graded"
        ],
        "colab": {
          "base_uri": "https://localhost:8080/"
        },
        "outputId": "83f34c48-81e3-4e34-805f-a5947a61f0f2"
      },
      "outputs": [
        {
          "output_type": "stream",
          "name": "stdout",
          "text": [
            "labels have shape: (5, 3211)\n",
            "\n",
            "features look like this:\n",
            "\n"
          ]
        },
        {
          "output_type": "execute_result",
          "data": {
            "text/plain": [
              "array([[  0,   0,   0,  33],\n",
              "       [  0,   0,  33, 311],\n",
              "       [  0,  33, 311, 518],\n",
              "       [ 33, 311, 518, 145],\n",
              "       [311, 518, 145, 186]], dtype=int32)"
            ]
          },
          "metadata": {},
          "execution_count": 71
        }
      ],
      "source": [
        "# Test your function with the padded n_grams_seq of the first example\n",
        "first_features, first_labels = features_and_labels(first_padded_seq, total_words)\n",
        "\n",
        "print(f\"labels have shape: {first_labels.shape}\")\n",
        "print(\"\\nfeatures look like this:\\n\")\n",
        "first_features"
      ]
    },
    {
      "cell_type": "markdown",
      "metadata": {
        "id": "7t4yAx2UaQ43"
      },
      "source": [
        "**Expected Output:**\n",
        "\n",
        "```\n",
        "labels have shape: (5, 3211)\n",
        "\n",
        "features look like this:\n",
        "\n",
        "array([[  0,   0,   0,  34],\n",
        "       [  0,   0,  34, 417],\n",
        "       [  0,  34, 417, 877],\n",
        "       [ 34, 417, 877, 166],\n",
        "       [417, 877, 166, 213]], dtype=int32)\n",
        "```"
      ]
    },
    {
      "cell_type": "code",
      "execution_count": 72,
      "metadata": {
        "id": "GRTuLEt3bRKa",
        "tags": [
          "graded"
        ],
        "colab": {
          "base_uri": "https://localhost:8080/"
        },
        "outputId": "fb06d83b-d7d3-4c26-c003-f0f0d30dc48c"
      },
      "outputs": [
        {
          "output_type": "stream",
          "name": "stdout",
          "text": [
            "features have shape: (15462, 10)\n",
            "labels have shape: (15462, 3211)\n"
          ]
        }
      ],
      "source": [
        "# Split the whole corpus\n",
        "features, labels = features_and_labels(input_sequences, total_words)\n",
        "\n",
        "print(f\"features have shape: {features.shape}\")\n",
        "print(f\"labels have shape: {labels.shape}\")"
      ]
    },
    {
      "cell_type": "markdown",
      "metadata": {
        "id": "xXSMK_HpdLns"
      },
      "source": [
        "**Expected Output:**\n",
        "\n",
        "```\n",
        "features have shape: (15462, 10)\n",
        "labels have shape: (15462, 3211)\n",
        "```"
      ]
    },
    {
      "cell_type": "markdown",
      "metadata": {
        "id": "ltxaOCE_aU6J"
      },
      "source": [
        "## Create the model\n",
        "\n",
        "Now you should define a model architecture capable of achieving an accuracy of at least 80%.\n",
        "\n",
        "Some hints to help you in this task:\n",
        "\n",
        "- An appropriate `output_dim` for the first layer (Embedding) is 100, this is already provided for you.\n",
        "- A Bidirectional LSTM is helpful for this particular problem.\n",
        "- The last layer should have the same number of units as the total number of words in the corpus and a softmax activation function.\n",
        "- This problem can be solved with only two layers (excluding the Embedding) so try out small architectures first."
      ]
    },
    {
      "cell_type": "code",
      "execution_count": 91,
      "metadata": {
        "cellView": "code",
        "id": "XrE6kpJFfvRY",
        "tags": [
          "graded"
        ]
      },
      "outputs": [],
      "source": [
        "from tensorflow.keras.layers import Embedding, LSTM, Dense, Bidirectional, Dropout\n",
        "from tensorflow.keras import regularizers\n",
        "import tensorflow as tf\n",
        "\n",
        "# GRADED FUNCTION: create_model\n",
        "def create_model(total_words, max_sequence_len):\n",
        "    \"\"\"\n",
        "    Creates a text generator model\n",
        "    \n",
        "    Args:\n",
        "        total_words (int): size of the vocabulary for the Embedding layer input\n",
        "        max_sequence_len (int): length of the input sequences\n",
        "    \n",
        "    Returns:\n",
        "        model (tf.keras Model): the text generator model\n",
        "    \"\"\"\n",
        "    model = Sequential()\n",
        "    ### START CODE HERE\n",
        "    model.add(Embedding(total_words, 150, input_length=max_sequence_len-1))\n",
        "    model.add(Bidirectional(LSTM(250, return_sequences = True)))\n",
        "    model.add(Dropout(0.2))\n",
        "    model.add(LSTM(150))\n",
        "    #model.add(Dense(total_words/2, activation='relu', kernel_regularizer=regularizers.l2(0.01)))\n",
        "    model.add(Dense(total_words, activation='softmax'))\n",
        "\n",
        "    # Compile the model\n",
        "    model.compile(loss='categorical_crossentropy',\n",
        "                  optimizer=tf.keras.optimizers.Adam(0.001),\n",
        "                  metrics=['accuracy'])\n",
        "    \n",
        "    ### END CODE HERE\n",
        "\n",
        "    return model"
      ]
    },
    {
      "cell_type": "code",
      "source": [
        "# Get the untrained model\n",
        "model = create_model(total_words, max_sequence_len)\n",
        "model.summary()"
      ],
      "metadata": {
        "colab": {
          "base_uri": "https://localhost:8080/"
        },
        "id": "6PAMdkQXVntp",
        "outputId": "b77a5cac-b9bb-4866-803f-3213a0e876af"
      },
      "execution_count": 92,
      "outputs": [
        {
          "output_type": "stream",
          "name": "stdout",
          "text": [
            "Model: \"sequential_10\"\n",
            "_________________________________________________________________\n",
            " Layer (type)                Output Shape              Param #   \n",
            "=================================================================\n",
            " embedding_10 (Embedding)    (None, 10, 150)           481650    \n",
            "                                                                 \n",
            " bidirectional_10 (Bidirecti  (None, 10, 500)          802000    \n",
            " onal)                                                           \n",
            "                                                                 \n",
            " dropout_10 (Dropout)        (None, 10, 500)           0         \n",
            "                                                                 \n",
            " lstm_21 (LSTM)              (None, 150)               390600    \n",
            "                                                                 \n",
            " dense_14 (Dense)            (None, 3211)              484861    \n",
            "                                                                 \n",
            "=================================================================\n",
            "Total params: 2,159,111\n",
            "Trainable params: 2,159,111\n",
            "Non-trainable params: 0\n",
            "_________________________________________________________________\n"
          ]
        }
      ]
    },
    {
      "cell_type": "code",
      "execution_count": 93,
      "metadata": {
        "id": "0IpX_Gu_gISk",
        "tags": [],
        "colab": {
          "base_uri": "https://localhost:8080/"
        },
        "outputId": "ca86d40b-9b4d-4370-a38c-35b2c6f3d98a"
      },
      "outputs": [
        {
          "output_type": "stream",
          "name": "stdout",
          "text": [
            "Epoch 1/100\n",
            "484/484 [==============================] - 8s 9ms/step - loss: 6.8756 - accuracy: 0.0235\n",
            "Epoch 2/100\n",
            "484/484 [==============================] - 4s 8ms/step - loss: 6.4561 - accuracy: 0.0335\n",
            "Epoch 3/100\n",
            "484/484 [==============================] - 4s 8ms/step - loss: 6.2937 - accuracy: 0.0386\n",
            "Epoch 4/100\n",
            "484/484 [==============================] - 4s 9ms/step - loss: 6.1382 - accuracy: 0.0429\n",
            "Epoch 5/100\n",
            "484/484 [==============================] - 4s 8ms/step - loss: 5.9712 - accuracy: 0.0533\n",
            "Epoch 6/100\n",
            "484/484 [==============================] - 4s 8ms/step - loss: 5.8108 - accuracy: 0.0589\n",
            "Epoch 7/100\n",
            "484/484 [==============================] - 4s 9ms/step - loss: 5.6572 - accuracy: 0.0659\n",
            "Epoch 8/100\n",
            "484/484 [==============================] - 4s 9ms/step - loss: 5.4966 - accuracy: 0.0718\n",
            "Epoch 9/100\n",
            "484/484 [==============================] - 4s 9ms/step - loss: 5.3473 - accuracy: 0.0824\n",
            "Epoch 10/100\n",
            "484/484 [==============================] - 4s 9ms/step - loss: 5.1849 - accuracy: 0.0883\n",
            "Epoch 11/100\n",
            "484/484 [==============================] - 4s 8ms/step - loss: 5.0209 - accuracy: 0.0970\n",
            "Epoch 12/100\n",
            "484/484 [==============================] - 4s 9ms/step - loss: 4.8620 - accuracy: 0.1054\n",
            "Epoch 13/100\n",
            "484/484 [==============================] - 4s 9ms/step - loss: 4.7061 - accuracy: 0.1170\n",
            "Epoch 14/100\n",
            "484/484 [==============================] - 4s 9ms/step - loss: 4.5450 - accuracy: 0.1297\n",
            "Epoch 15/100\n",
            "484/484 [==============================] - 4s 9ms/step - loss: 4.3903 - accuracy: 0.1440\n",
            "Epoch 16/100\n",
            "484/484 [==============================] - 4s 9ms/step - loss: 4.2295 - accuracy: 0.1596\n",
            "Epoch 17/100\n",
            "484/484 [==============================] - 4s 9ms/step - loss: 4.0766 - accuracy: 0.1796\n",
            "Epoch 18/100\n",
            "484/484 [==============================] - 4s 9ms/step - loss: 3.9230 - accuracy: 0.2011\n",
            "Epoch 19/100\n",
            "484/484 [==============================] - 4s 9ms/step - loss: 3.7817 - accuracy: 0.2241\n",
            "Epoch 20/100\n",
            "484/484 [==============================] - 4s 9ms/step - loss: 3.6335 - accuracy: 0.2486\n",
            "Epoch 21/100\n",
            "484/484 [==============================] - 4s 9ms/step - loss: 3.5006 - accuracy: 0.2698\n",
            "Epoch 22/100\n",
            "484/484 [==============================] - 4s 9ms/step - loss: 3.3723 - accuracy: 0.2933\n",
            "Epoch 23/100\n",
            "484/484 [==============================] - 4s 9ms/step - loss: 3.2455 - accuracy: 0.3154\n",
            "Epoch 24/100\n",
            "484/484 [==============================] - 4s 9ms/step - loss: 3.1268 - accuracy: 0.3388\n",
            "Epoch 25/100\n",
            "484/484 [==============================] - 4s 9ms/step - loss: 3.0145 - accuracy: 0.3624\n",
            "Epoch 26/100\n",
            "484/484 [==============================] - 4s 9ms/step - loss: 2.9075 - accuracy: 0.3782\n",
            "Epoch 27/100\n",
            "484/484 [==============================] - 4s 9ms/step - loss: 2.7992 - accuracy: 0.3999\n",
            "Epoch 28/100\n",
            "484/484 [==============================] - 4s 9ms/step - loss: 2.7048 - accuracy: 0.4172\n",
            "Epoch 29/100\n",
            "484/484 [==============================] - 4s 9ms/step - loss: 2.6054 - accuracy: 0.4358\n",
            "Epoch 30/100\n",
            "484/484 [==============================] - 4s 9ms/step - loss: 2.5220 - accuracy: 0.4567\n",
            "Epoch 31/100\n",
            "484/484 [==============================] - 4s 9ms/step - loss: 2.4349 - accuracy: 0.4740\n",
            "Epoch 32/100\n",
            "484/484 [==============================] - 4s 9ms/step - loss: 2.3534 - accuracy: 0.4882\n",
            "Epoch 33/100\n",
            "484/484 [==============================] - 4s 9ms/step - loss: 2.2684 - accuracy: 0.5072\n",
            "Epoch 34/100\n",
            "484/484 [==============================] - 4s 9ms/step - loss: 2.1956 - accuracy: 0.5169\n",
            "Epoch 35/100\n",
            "484/484 [==============================] - 4s 9ms/step - loss: 2.1137 - accuracy: 0.5407\n",
            "Epoch 36/100\n",
            "484/484 [==============================] - 4s 9ms/step - loss: 2.0442 - accuracy: 0.5521\n",
            "Epoch 37/100\n",
            "484/484 [==============================] - 4s 9ms/step - loss: 1.9801 - accuracy: 0.5669\n",
            "Epoch 38/100\n",
            "484/484 [==============================] - 4s 9ms/step - loss: 1.9157 - accuracy: 0.5782\n",
            "Epoch 39/100\n",
            "484/484 [==============================] - 4s 9ms/step - loss: 1.8462 - accuracy: 0.5949\n",
            "Epoch 40/100\n",
            "484/484 [==============================] - 4s 9ms/step - loss: 1.7827 - accuracy: 0.6089\n",
            "Epoch 41/100\n",
            "484/484 [==============================] - 4s 9ms/step - loss: 1.7246 - accuracy: 0.6243\n",
            "Epoch 42/100\n",
            "484/484 [==============================] - 4s 9ms/step - loss: 1.6602 - accuracy: 0.6383\n",
            "Epoch 43/100\n",
            "484/484 [==============================] - 4s 9ms/step - loss: 1.6158 - accuracy: 0.6482\n",
            "Epoch 44/100\n",
            "484/484 [==============================] - 4s 9ms/step - loss: 1.5586 - accuracy: 0.6588\n",
            "Epoch 45/100\n",
            "484/484 [==============================] - 4s 9ms/step - loss: 1.5162 - accuracy: 0.6674\n",
            "Epoch 46/100\n",
            "484/484 [==============================] - 4s 9ms/step - loss: 1.4672 - accuracy: 0.6782\n",
            "Epoch 47/100\n",
            "484/484 [==============================] - 4s 9ms/step - loss: 1.4162 - accuracy: 0.6885\n",
            "Epoch 48/100\n",
            "484/484 [==============================] - 4s 9ms/step - loss: 1.3689 - accuracy: 0.7007\n",
            "Epoch 49/100\n",
            "484/484 [==============================] - 4s 9ms/step - loss: 1.3364 - accuracy: 0.7070\n",
            "Epoch 50/100\n",
            "484/484 [==============================] - 4s 9ms/step - loss: 1.2874 - accuracy: 0.7196\n",
            "Epoch 51/100\n",
            "484/484 [==============================] - 4s 9ms/step - loss: 1.2522 - accuracy: 0.7234\n",
            "Epoch 52/100\n",
            "484/484 [==============================] - 4s 9ms/step - loss: 1.2154 - accuracy: 0.7340\n",
            "Epoch 53/100\n",
            "484/484 [==============================] - 4s 9ms/step - loss: 1.1790 - accuracy: 0.7394\n",
            "Epoch 54/100\n",
            "484/484 [==============================] - 4s 9ms/step - loss: 1.1486 - accuracy: 0.7481\n",
            "Epoch 55/100\n",
            "484/484 [==============================] - 4s 9ms/step - loss: 1.1163 - accuracy: 0.7527\n",
            "Epoch 56/100\n",
            "484/484 [==============================] - 4s 9ms/step - loss: 1.0875 - accuracy: 0.7590\n",
            "Epoch 57/100\n",
            "484/484 [==============================] - 4s 9ms/step - loss: 1.0522 - accuracy: 0.7665\n",
            "Epoch 58/100\n",
            "484/484 [==============================] - 4s 9ms/step - loss: 1.0293 - accuracy: 0.7735\n",
            "Epoch 59/100\n",
            "484/484 [==============================] - 4s 9ms/step - loss: 1.0015 - accuracy: 0.7759\n",
            "Epoch 60/100\n",
            "484/484 [==============================] - 4s 9ms/step - loss: 0.9808 - accuracy: 0.7825\n",
            "Epoch 61/100\n",
            "484/484 [==============================] - 4s 9ms/step - loss: 0.9593 - accuracy: 0.7857\n",
            "Epoch 62/100\n",
            "484/484 [==============================] - 4s 9ms/step - loss: 0.9295 - accuracy: 0.7930\n",
            "Epoch 63/100\n",
            "484/484 [==============================] - 4s 9ms/step - loss: 0.9118 - accuracy: 0.7932\n",
            "Epoch 64/100\n",
            "484/484 [==============================] - 4s 9ms/step - loss: 0.8938 - accuracy: 0.7964\n",
            "Epoch 65/100\n",
            "484/484 [==============================] - 4s 9ms/step - loss: 0.8722 - accuracy: 0.8016\n",
            "Epoch 66/100\n",
            "484/484 [==============================] - 4s 9ms/step - loss: 0.8538 - accuracy: 0.8059\n",
            "Epoch 67/100\n",
            "484/484 [==============================] - 4s 9ms/step - loss: 0.8384 - accuracy: 0.8086\n",
            "Epoch 68/100\n",
            "484/484 [==============================] - 4s 9ms/step - loss: 0.8227 - accuracy: 0.8088\n",
            "Epoch 69/100\n",
            "484/484 [==============================] - 4s 9ms/step - loss: 0.8124 - accuracy: 0.8119\n",
            "Epoch 70/100\n",
            "484/484 [==============================] - 4s 9ms/step - loss: 0.7943 - accuracy: 0.8152\n",
            "Epoch 71/100\n",
            "484/484 [==============================] - 4s 9ms/step - loss: 0.7828 - accuracy: 0.8146\n",
            "Epoch 72/100\n",
            "484/484 [==============================] - 4s 9ms/step - loss: 0.7638 - accuracy: 0.8199\n",
            "Epoch 73/100\n",
            "484/484 [==============================] - 4s 9ms/step - loss: 0.7580 - accuracy: 0.8227\n",
            "Epoch 74/100\n",
            "484/484 [==============================] - 4s 9ms/step - loss: 0.7439 - accuracy: 0.8238\n",
            "Epoch 75/100\n",
            "484/484 [==============================] - 4s 9ms/step - loss: 0.7270 - accuracy: 0.8277\n",
            "Epoch 76/100\n",
            "484/484 [==============================] - 4s 9ms/step - loss: 0.7166 - accuracy: 0.8285\n",
            "Epoch 77/100\n",
            "484/484 [==============================] - 4s 9ms/step - loss: 0.7162 - accuracy: 0.8289\n",
            "Epoch 78/100\n",
            "484/484 [==============================] - 4s 9ms/step - loss: 0.6988 - accuracy: 0.8334\n",
            "Epoch 79/100\n",
            "484/484 [==============================] - 4s 9ms/step - loss: 0.6992 - accuracy: 0.8311\n",
            "Epoch 80/100\n",
            "484/484 [==============================] - 4s 9ms/step - loss: 0.6846 - accuracy: 0.8333\n",
            "Epoch 81/100\n",
            "484/484 [==============================] - 4s 9ms/step - loss: 0.6769 - accuracy: 0.8354\n",
            "Epoch 82/100\n",
            "484/484 [==============================] - 4s 9ms/step - loss: 0.6640 - accuracy: 0.8373\n",
            "Epoch 83/100\n",
            "484/484 [==============================] - 4s 9ms/step - loss: 0.6586 - accuracy: 0.8373\n",
            "Epoch 84/100\n",
            "484/484 [==============================] - 4s 9ms/step - loss: 0.6522 - accuracy: 0.8403\n",
            "Epoch 85/100\n",
            "484/484 [==============================] - 4s 9ms/step - loss: 0.6438 - accuracy: 0.8401\n",
            "Epoch 86/100\n",
            "484/484 [==============================] - 4s 9ms/step - loss: 0.6418 - accuracy: 0.8376\n",
            "Epoch 87/100\n",
            "484/484 [==============================] - 4s 9ms/step - loss: 0.6345 - accuracy: 0.8399\n",
            "Epoch 88/100\n",
            "484/484 [==============================] - 4s 9ms/step - loss: 0.6337 - accuracy: 0.8388\n",
            "Epoch 89/100\n",
            "484/484 [==============================] - 4s 9ms/step - loss: 0.6372 - accuracy: 0.8373\n",
            "Epoch 90/100\n",
            "484/484 [==============================] - 4s 9ms/step - loss: 0.6244 - accuracy: 0.8405\n",
            "Epoch 91/100\n",
            "484/484 [==============================] - 4s 9ms/step - loss: 0.6191 - accuracy: 0.8401\n",
            "Epoch 92/100\n",
            "484/484 [==============================] - 4s 9ms/step - loss: 0.6088 - accuracy: 0.8424\n",
            "Epoch 93/100\n",
            "484/484 [==============================] - 4s 9ms/step - loss: 0.6040 - accuracy: 0.8455\n",
            "Epoch 94/100\n",
            "484/484 [==============================] - 4s 9ms/step - loss: 0.6025 - accuracy: 0.8445\n",
            "Epoch 95/100\n",
            "484/484 [==============================] - 4s 9ms/step - loss: 0.6005 - accuracy: 0.8428\n",
            "Epoch 96/100\n",
            "484/484 [==============================] - 4s 9ms/step - loss: 0.5976 - accuracy: 0.8450\n",
            "Epoch 97/100\n",
            "484/484 [==============================] - 4s 9ms/step - loss: 0.5919 - accuracy: 0.8461\n",
            "Epoch 98/100\n",
            "484/484 [==============================] - 4s 9ms/step - loss: 0.5880 - accuracy: 0.8447\n",
            "Epoch 99/100\n",
            "484/484 [==============================] - 4s 9ms/step - loss: 0.5838 - accuracy: 0.8443\n",
            "Epoch 100/100\n",
            "484/484 [==============================] - 4s 9ms/step - loss: 0.5808 - accuracy: 0.8478\n"
          ]
        }
      ],
      "source": [
        "# Get the untrained model\n",
        "model = create_model(total_words, max_sequence_len)\n",
        "\n",
        "# Train the model\n",
        "history = model.fit(features, labels, epochs=100, verbose=1)"
      ]
    },
    {
      "cell_type": "markdown",
      "metadata": {
        "id": "gy72RPgly55q"
      },
      "source": [
        "**To pass this assignment, your model should achieve a training accuracy of at least 80%**. If your model didn't achieve this threshold, try training again with a different model architecture, consider increasing the number of unit in your `LSTM` layer."
      ]
    },
    {
      "cell_type": "code",
      "execution_count": 94,
      "metadata": {
        "id": "1fXTEO3GJ282",
        "tags": [],
        "colab": {
          "base_uri": "https://localhost:8080/",
          "height": 545
        },
        "outputId": "4e74df53-c74a-4e64-ac35-6713a1785b3a"
      },
      "outputs": [
        {
          "output_type": "display_data",
          "data": {
            "text/plain": [
              "<Figure size 432x288 with 1 Axes>"
            ],
            "image/png": "[encoded data removed]"
          },
          "metadata": {
            "needs_background": "light"
          }
        },
        {
          "output_type": "display_data",
          "data": {
            "text/plain": [
              "<Figure size 432x288 with 1 Axes>"
            ],
            "image/png": "[encoded data removed]"
          },
          "metadata": {
            "needs_background": "light"
          }
        }
      ],
      "source": [
        "# Take a look at the training curves of your model\n",
        "\n",
        "acc = history.history['accuracy']\n",
        "loss = history.history['loss']\n",
        "\n",
        "epochs = range(len(acc))\n",
        "\n",
        "plt.plot(epochs, acc, 'b', label='Training accuracy')\n",
        "plt.title('Training accuracy')\n",
        "\n",
        "plt.figure()\n",
        "\n",
        "plt.plot(epochs, loss, 'b', label='Training Loss')\n",
        "plt.title('Training loss')\n",
        "plt.legend()\n",
        "\n",
        "plt.show()"
      ]
    },
    {
      "cell_type": "markdown",
      "metadata": {
        "id": "OjvED5A3qrn2"
      },
      "source": [
        "Before closing the assignment, be sure to also download the `history.pkl` file which contains the information of the training history of your model and will be used to compute your grade. You can download this file by running the cell below:"
      ]
    },
    {
      "cell_type": "code",
      "execution_count": 95,
      "metadata": {
        "id": "9QRG73l6qE-c",
        "tags": [],
        "colab": {
          "base_uri": "https://localhost:8080/",
          "height": 17
        },
        "outputId": "40be9392-1440-4806-b72f-52385f1ee272"
      },
      "outputs": [
        {
          "output_type": "display_data",
          "data": {
            "text/plain": [
              "<IPython.core.display.Javascript object>"
            ],
            "application/javascript": [
              "\n",
              "    async function download(id, filename, size) {\n",
              "      if (!google.colab.kernel.accessAllowed) {\n",
              "        return;\n",
              "      }\n",
              "      const div = document.createElement('div');\n",
              "      const label = document.createElement('label');\n",
              "      label.textContent = `Downloading \"${filename}\": `;\n",
              "      div.appendChild(label);\n",
              "      const progress = document.createElement('progress');\n",
              "      progress.max = size;\n",
              "      div.appendChild(progress);\n",
              "      document.body.appendChild(div);\n",
              "\n",
              "      const buffers = [];\n",
              "      let downloaded = 0;\n",
              "\n",
              "      const channel = await google.colab.kernel.comms.open(id);\n",
              "      // Send a message to notify the kernel that we're ready.\n",
              "      channel.send({})\n",
              "\n",
              "      for await (const message of channel.messages) {\n",
              "        // Send a message to notify the kernel that we're ready.\n",
              "        channel.send({})\n",
              "        if (message.buffers) {\n",
              "          for (const buffer of message.buffers) {\n",
              "            buffers.push(buffer);\n",
              "            downloaded += buffer.byteLength;\n",
              "            progress.value = downloaded;\n",
              "          }\n",
              "        }\n",
              "      }\n",
              "      const blob = new Blob(buffers, {type: 'application/binary'});\n",
              "      const a = document.createElement('a');\n",
              "      a.href = window.URL.createObjectURL(blob);\n",
              "      a.download = filename;\n",
              "      div.appendChild(a);\n",
              "      a.click();\n",
              "      div.remove();\n",
              "    }\n",
              "  "
            ]
          },
          "metadata": {}
        },
        {
          "output_type": "display_data",
          "data": {
            "text/plain": [
              "<IPython.core.display.Javascript object>"
            ],
            "application/javascript": [
              "download(\"download_e69ee43c-7a52-499b-809c-fd9d22603a3f\", \"history.pkl\", 1844)"
            ]
          },
          "metadata": {}
        }
      ],
      "source": [
        "def download_history():\n",
        "  import pickle\n",
        "  from google.colab import files\n",
        "\n",
        "  with open('history.pkl', 'wb') as f:\n",
        "    pickle.dump(history.history, f)\n",
        "\n",
        "  files.download('history.pkl')\n",
        "\n",
        "download_history()"
      ]
    },
    {
      "cell_type": "markdown",
      "metadata": {
        "id": "wdsMszk9zBs_"
      },
      "source": [
        "## See your model in action\n",
        "\n",
        "After all your work it is finally time to see your model generating text. \n",
        "\n",
        "Run the cell below to generate the next 100 words of a seed text.\n",
        "\n",
        "After submitting your assignment you are encouraged to try out training for different amounts of epochs and seeing how this affects the coherency of the generated text. Also try changing the seed text to see what you get!"
      ]
    },
    {
      "cell_type": "code",
      "execution_count": null,
      "metadata": {
        "id": "6Vc6PHgxa6Hm",
        "tags": []
      },
      "outputs": [],
      "source": [
        "seed_text = \"Help me Obi Wan Kenobi, you're my only hope\"\n",
        "next_words = 100\n",
        "  \n",
        "for _ in range(next_words):\n",
        "\t# Convert the text into sequences\n",
        "\ttoken_list = tokenizer.texts_to_sequences([seed_text])[0]\n",
        "\t# Pad the sequences\n",
        "\ttoken_list = pad_sequences([token_list], maxlen=max_sequence_len-1, padding='pre')\n",
        "\t# Get the probabilities of predicting a word\n",
        "\tpredicted = model.predict(token_list, verbose=0)\n",
        "\t# Choose the next word based on the maximum probability\n",
        "\tpredicted = np.argmax(predicted, axis=-1).item()\n",
        "\t# Get the actual word from the word index\n",
        "\toutput_word = tokenizer.index_word[predicted]\n",
        "\t# Append to the current text\n",
        "\tseed_text += \" \" + output_word\n",
        "\n",
        "print(seed_text)"
      ]
    },
    {
      "cell_type": "markdown",
      "metadata": {
        "id": "oQVDbdcYqSux"
      },
      "source": [
        "You will also need to submit this notebook for grading. To download it, click on the File tab in the upper left corner of the screen then click on Download -> Download .ipynb. You can name it anything you want as long as it is a valid .ipynb (jupyter notebook) file.\n",
        "\n",
        "**Congratulations on finishing this week's assignment!**\n",
        "\n",
        "You have successfully implemented a neural network capable of predicting the next word in a sequence of text!\n",
        "\n",
        "**We hope to see you in the next course of the specialization! Keep it up!**"
      ]
    }
  ],
  "metadata": {
    "accelerator": "GPU",
    "dlai_version": "1.2.0",
    "jupytext": {
      "main_language": "python"
    },
    "kernelspec": {
      "display_name": "Python 3",
      "language": "python",
      "name": "python3"
    },
    "language_info": {
      "codemirror_mode": {
        "name": "ipython",
        "version": 3
      },
      "file_extension": ".py",
      "mimetype": "text/x-python",
      "name": "python",
      "nbconvert_exporter": "python",
      "pygments_lexer": "ipython3",
      "version": "3.7.4"
    },
    "colab": {
      "provenance": []
    }
  },
  "nbformat": 4,
  "nbformat_minor": 0
}